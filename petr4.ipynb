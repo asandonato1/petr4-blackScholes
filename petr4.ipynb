{
 "cells": [
  {
   "cell_type": "code",
   "execution_count": 1,
   "id": "291c3a87",
   "metadata": {},
   "outputs": [],
   "source": [
    "import pandas as pd\n",
    "import numpy as np\n",
    "from funcs import *"
   ]
  },
  {
   "cell_type": "code",
   "execution_count": 2,
   "id": "ed009cbf",
   "metadata": {},
   "outputs": [
    {
     "name": "stdout",
     "output_type": "stream",
     "text": [
      "YF.download() has changed argument auto_adjust default to True\n"
     ]
    },
    {
     "name": "stderr",
     "output_type": "stream",
     "text": [
      "[*********************100%***********************]  1 of 1 completed\n",
      "[*********************100%***********************]  1 of 1 completed\n"
     ]
    },
    {
     "name": "stdout",
     "output_type": "stream",
     "text": [
      "Volatilidade histórica anual: 25.11%\n"
     ]
    }
   ],
   "source": [
    "data = downloadData()\n",
    "sigma = historicalVol()\n",
    "S0 = intitialPrice(data)\n",
    "r = selic() # as vezes precisa rodar duas vezes pra funcionar...?\n",
    "\n",
    "df = pd.read_csv(\"data/petr4_data.csv\")\n",
    "K = np.mean(df[\"Strike\"])\n",
    "call = blackScholesCall(S0, K, sigma, r, 0.5) # 0.5 ano --> 6 meses"
   ]
  },
  {
   "cell_type": "code",
   "execution_count": 6,
   "id": "b590bb92",
   "metadata": {},
   "outputs": [
    {
     "name": "stdout",
     "output_type": "stream",
     "text": [
      "Valor de call: $34.54\n"
     ]
    }
   ],
   "source": [
    "print(f\"Valor de call: ${call[0]:.2f}\")"
   ]
  },
  {
   "cell_type": "code",
   "execution_count": null,
   "id": "1d2fce26",
   "metadata": {},
   "outputs": [],
   "source": []
  }
 ],
 "metadata": {
  "kernelspec": {
   "display_name": "stochastic",
   "language": "python",
   "name": "python3"
  },
  "language_info": {
   "codemirror_mode": {
    "name": "ipython",
    "version": 3
   },
   "file_extension": ".py",
   "mimetype": "text/x-python",
   "name": "python",
   "nbconvert_exporter": "python",
   "pygments_lexer": "ipython3",
   "version": "3.13.2"
  }
 },
 "nbformat": 4,
 "nbformat_minor": 5
}
