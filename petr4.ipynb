{
 "cells": [
  {
   "cell_type": "code",
   "execution_count": 1,
   "id": "291c3a87",
   "metadata": {},
   "outputs": [],
   "source": [
    "import pandas as pd\n",
    "import yfinance as yf\n",
    "import numpy as np\n",
    "from bs4 import BeautifulSoup\n",
    "import requests"
   ]
  },
  {
   "cell_type": "code",
   "execution_count": 5,
   "id": "9005b730",
   "metadata": {},
   "outputs": [
    {
     "name": "stderr",
     "output_type": "stream",
     "text": [
      "[*********************100%***********************]  1 of 1 completed"
     ]
    },
    {
     "name": "stdout",
     "output_type": "stream",
     "text": [
      "Volatilidade histórica anual: 24.81%\n"
     ]
    },
    {
     "name": "stderr",
     "output_type": "stream",
     "text": [
      "\n"
     ]
    }
   ],
   "source": [
    "\n",
    "# baixando os dados da petr4\n",
    "data = yf.download(\"PETR4.SA\", start=\"2024-12-01\", end=\"2025-05-31\") # intervalo de alguns meses\n",
    "returns = np.log(data[\"Close\"] / data[\"Close\"].shift(1)) # log dos retornos\n",
    "volDaily = returns.std() # desv pad dos retornos \n",
    "volAnnual = volDaily * np.sqrt(252) # anual = diario * sqrt(dias uteis)... desv. pad med. so \n",
    "\n",
    "print(f\"Volatilidade histórica anual: {volAnnual.iloc[0]:.2%}\")\n"
   ]
  },
  {
   "cell_type": "code",
   "execution_count": null,
   "id": "c75ce5d8",
   "metadata": {},
   "outputs": [],
   "source": [
    "'''\n",
    "------------------------------------------------\n",
    "\n",
    "K --> strike --> scraping de https://opcoes.net.br/opcoes/bovespa/PETR4\n",
    "\n",
    "------------------------------------------------\n",
    "\n",
    "S0 --> google finance (media temporal, talvez) (feito; yfinance)\n",
    "\n",
    "------------------------------------------------\n",
    "\n",
    "sigma --> yfinance \n",
    "\n",
    "obs.: seria melhor usar volatilidade implicita ao inves de historica \n",
    "\n",
    "------------------------------------------------\n",
    "\n",
    "r --> taxa selic? talvez... (feito)\n",
    "\n",
    "\n",
    "'''"
   ]
  },
  {
   "cell_type": "code",
   "execution_count": 34,
   "id": "3e96190e",
   "metadata": {},
   "outputs": [
    {
     "data": {
      "text/plain": [
       "np.float64(35.40686798095703)"
      ]
     },
     "execution_count": 34,
     "metadata": {},
     "output_type": "execute_result"
    }
   ],
   "source": [
    "data.loc[\"2024-12-02\"].iloc[0]"
   ]
  },
  {
   "cell_type": "code",
   "execution_count": 45,
   "id": "79b59966",
   "metadata": {},
   "outputs": [],
   "source": [
    "close = np.asarray([data.loc[date].iloc[0] for date in data.index])\n",
    "open = np.asarray([data.loc[date].iloc[3] for date in data.index])\n",
    "\n",
    "time = len(close)\n",
    "avgClose = np.sum(close)/time\n",
    "avgOpen = np.sum(open)/time\n",
    "\n",
    "S0 = np.mean([avgClose, avgOpen])"
   ]
  },
  {
   "cell_type": "code",
   "execution_count": 210,
   "id": "fa719fa8",
   "metadata": {},
   "outputs": [],
   "source": [
    "import selenium\n",
    "from selenium.webdriver.common.by import By\n",
    "\n",
    "driver = selenium.webdriver.Chrome()\n",
    "\n",
    "driver.get(\"https://www.bcb.gov.br/controleinflacao/historicotaxasjuros\")\n",
    "element = driver.find_element(by=By.CLASS_NAME, value = \"table\")"
   ]
  },
  {
   "cell_type": "code",
   "execution_count": 217,
   "id": "63dfee60",
   "metadata": {},
   "outputs": [],
   "source": [
    "splitting = [i.split(\"-\") for i in element.text.split(\"\\n\")[7:]]"
   ]
  },
  {
   "cell_type": "code",
   "execution_count": 212,
   "id": "caeca175",
   "metadata": {},
   "outputs": [],
   "source": [
    "import re\n",
    "\n",
    "def processLine(linha):\n",
    "    # Processa a primeira parte (antes da vírgula)\n",
    "    parte1 = linha[0].strip()\n",
    "    # Extrai o índice (ex: \"269ª\")\n",
    "    indice = re.match(r'^\\d+ª', parte1).group()\n",
    "    # Extrai as duas primeiras datas (ex: \"19/03/2025\" e \"20/03/2025\")\n",
    "    datas_parte1 = re.findall(r'\\d{2}/\\d{2}/\\d{4}', parte1)\n",
    "    data1, data2 = datas_parte1[0], datas_parte1[1] if len(datas_parte1) > 1 else 'n/a'\n",
    "    \n",
    "    # Processa a segunda parte (depois da vírgula)\n",
    "    parte2 = linha[1].strip()\n",
    "    # Extrai a terceira data (ex: \"07/05/2025\")\n",
    "    data3 = re.search(r'\\d{2}/\\d{2}/\\d{4}', parte2).group()\n",
    "    # Extrai os números (ex: \"14,25\", \"1,69\", \"14,15\")\n",
    "    numeros = re.findall(r'\\d+,\\d{2}', parte2)\n",
    "    num1 = numeros[0] if len(numeros) > 0 else 'n/a'\n",
    "    num2 = numeros[1] if len(numeros) > 1 else 'n/a'\n",
    "    num3 = numeros[2] if len(numeros) > 2 else 'n/a'\n",
    "    \n",
    "    return [indice, data1, data2, data3, num1, 'n/a', num2, num3]"
   ]
  },
  {
   "cell_type": "code",
   "execution_count": 218,
   "id": "6ac084df",
   "metadata": {},
   "outputs": [],
   "source": [
    "splitting = [processLine(line) for line in splitting[0:50]]"
   ]
  },
  {
   "cell_type": "code",
   "execution_count": 219,
   "id": "def3a7b6",
   "metadata": {},
   "outputs": [],
   "source": [
    "splitting = np.strings.replace(splitting, \",\", \".\")"
   ]
  },
  {
   "cell_type": "code",
   "execution_count": 220,
   "id": "c82dd792",
   "metadata": {},
   "outputs": [],
   "source": [
    "df = pd.DataFrame(splitting)\n",
    "df[[4, 6, 7]] = df[[4, 6, 7]].replace(',', '.', regex=True).astype(np.float32)\n",
    "splitting = df.values.tolist()"
   ]
  },
  {
   "cell_type": "code",
   "execution_count": 227,
   "id": "089b645c",
   "metadata": {},
   "outputs": [],
   "source": [
    "foo = []\n",
    "for line in splitting[0:3]:\n",
    "    foo.append(line[-1])"
   ]
  },
  {
   "cell_type": "code",
   "execution_count": 229,
   "id": "8fce0932",
   "metadata": {},
   "outputs": [],
   "source": [
    "r = np.mean(foo)"
   ]
  },
  {
   "cell_type": "code",
   "execution_count": null,
   "id": "ed009cbf",
   "metadata": {},
   "outputs": [],
   "source": []
  }
 ],
 "metadata": {
  "kernelspec": {
   "display_name": "stochastic",
   "language": "python",
   "name": "python3"
  },
  "language_info": {
   "codemirror_mode": {
    "name": "ipython",
    "version": 3
   },
   "file_extension": ".py",
   "mimetype": "text/x-python",
   "name": "python",
   "nbconvert_exporter": "python",
   "pygments_lexer": "ipython3",
   "version": "3.13.2"
  }
 },
 "nbformat": 4,
 "nbformat_minor": 5
}
